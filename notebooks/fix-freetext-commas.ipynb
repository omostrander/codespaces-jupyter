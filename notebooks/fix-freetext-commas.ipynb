{
 "cells": [
  {
   "cell_type": "code",
   "execution_count": 1,
   "metadata": {},
   "outputs": [],
   "source": [
    "# Import libraries\n",
    "import os\n",
    "import pandas as pd\n",
    "from tkinter.filedialog import askopenfilename"
   ]
  },
  {
   "cell_type": "code",
   "execution_count": null,
   "metadata": {},
   "outputs": [],
   "source": [
    "# Function to remove commas from text columns\n"
   ]
  },
  {
   "cell_type": "code",
   "execution_count": null,
   "metadata": {},
   "outputs": [],
   "source": [
    "# Open dialog box to search for file\n",
    "filename = askopenfilename()\n",
    "for fn in os.path.splitext(filename):\n",
    "    # Check file extensions and make dataframes\n",
    "    if fn[1] in ('csv', 'txt'):\n",
    "        df = pd.read_csv(filename)\n",
    "        # Too many columns indicate a possible comma-related issue\n",
    "        if len(df.columns) > 100:\n",
    "            # Open file in text format and remove commas\n",
    "\n",
    "            # Now create a dataframe\n",
    "\n",
    "    elif fn[1] in ('xls', 'xlsx'):\n",
    "        df = pd.read_excel(filename)\n",
    "\n",
    "    # Remove commas from string-formatted columns\n",
    "\n",
    "    # Save cleaned data to a csv\n",
    "    outfn = fn[0] + '_fixed.csv'\n"
   ]
  }
 ],
 "metadata": {
  "kernelspec": {
   "display_name": "Python 3",
   "language": "python",
   "name": "python3"
  },
  "language_info": {
   "codemirror_mode": {
    "name": "ipython",
    "version": 3
   },
   "file_extension": ".py",
   "mimetype": "text/x-python",
   "name": "python",
   "nbconvert_exporter": "python",
   "pygments_lexer": "ipython3",
   "version": "3.10.4"
  },
  "orig_nbformat": 4,
  "vscode": {
   "interpreter": {
    "hash": "3ad933181bd8a04b432d3370b9dc3b0662ad032c4dfaa4e4f1596c548f763858"
   }
  }
 },
 "nbformat": 4,
 "nbformat_minor": 2
}
